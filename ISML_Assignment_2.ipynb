{
 "cells": [
  {
   "cell_type": "code",
   "execution_count": 2,
   "metadata": {},
   "outputs": [
    {
     "name": "stdout",
     "output_type": "stream",
     "text": [
      "start\n"
     ]
    }
   ],
   "source": [
    "import numpy as np\n",
    "import pandas as pd\n",
    "import math as math\n",
    "import cvxpy as cp\n",
    "\n",
    "print(\"start\")"
   ]
  },
  {
   "cell_type": "code",
   "execution_count": 66,
   "metadata": {},
   "outputs": [
    {
     "name": "stdout",
     "output_type": "stream",
     "text": [
      "[[-0.36 -0.91 -0.99 ...  0.3   2.44 -1.26]\n",
      " [-1.4  -1.9   0.09 ... -0.2  -0.92 -0.46]\n",
      " [-0.43  1.45 -0.68 ...  0.12  0.01 -0.56]\n",
      " ...\n",
      " [-0.57  0.14 -0.62 ...  0.    0.38 -0.82]\n",
      " [ 0.4   0.16 -0.49 ...  0.89  0.21  1.09]\n",
      " [ 0.86 -0.23 -2.01 ...  0.21  0.68  2.49]]\n",
      "(4000, 200)\n",
      "-----------\n",
      "[-1.  1.  1. ...  1.  1.  1.]\n",
      "(4000,)\n"
     ]
    }
   ],
   "source": [
    "#read the training data\n",
    "rd = pd.read_csv('./train.csv',header = None)\n",
    "#print(rd)\n",
    "def initial ():\n",
    "    #first 4000 as training data, rest as validation\n",
    "    #first column for y, rest for x\n",
    "    train_x = rd.iloc[:4000,1:].to_numpy()\n",
    "    train_y = rd.iloc[:4000,0].to_numpy()\n",
    "\n",
    "    # change the first row 0 to -1\n",
    "    train_y = np.where(train_y == 0, -1 , train_y)\n",
    "    return train_x, train_y\n",
    "\n",
    "data_set = initial()\n",
    "train_x = data_set[0]\n",
    "train_y = data_set[1]\n",
    "\n",
    "print(train_x)\n",
    "print(train_x.shape)\n",
    "print(\"-----------\")\n",
    "print(train_y)\n",
    "print(train_y.shape)"
   ]
  }
 ],
 "metadata": {
  "kernelspec": {
   "display_name": "Python 3.10.5 64-bit",
   "language": "python",
   "name": "python3"
  },
  "language_info": {
   "codemirror_mode": {
    "name": "ipython",
    "version": 3
   },
   "file_extension": ".py",
   "mimetype": "text/x-python",
   "name": "python",
   "nbconvert_exporter": "python",
   "pygments_lexer": "ipython3",
   "version": "3.10.5"
  },
  "orig_nbformat": 4,
  "vscode": {
   "interpreter": {
    "hash": "369f2c481f4da34e4445cda3fffd2e751bd1c4d706f27375911949ba6bb62e1c"
   }
  }
 },
 "nbformat": 4,
 "nbformat_minor": 2
}
