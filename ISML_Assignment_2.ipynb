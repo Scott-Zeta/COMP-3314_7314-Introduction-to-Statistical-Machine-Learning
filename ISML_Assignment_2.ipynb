{
 "cells": [
  {
   "cell_type": "code",
   "execution_count": 5,
   "metadata": {},
   "outputs": [
    {
     "name": "stdout",
     "output_type": "stream",
     "text": [
      "start\n"
     ]
    }
   ],
   "source": [
    "import numpy as np\n",
    "import pandas as pd\n",
    "import math as math\n",
    "import cvxpy as cp\n",
    "from sklearn.metrics import accuracy_score as acc_s\n",
    "\n",
    "print(\"start\")"
   ]
  },
  {
   "cell_type": "code",
   "execution_count": 6,
   "metadata": {},
   "outputs": [
    {
     "name": "stdout",
     "output_type": "stream",
     "text": [
      "[[-0.36 -0.91 -0.99 ...  0.3   2.44 -1.26]\n",
      " [-1.4  -1.9   0.09 ... -0.2  -0.92 -0.46]\n",
      " [-0.43  1.45 -0.68 ...  0.12  0.01 -0.56]\n",
      " ...\n",
      " [-0.57  0.14 -0.62 ...  0.    0.38 -0.82]\n",
      " [ 0.4   0.16 -0.49 ...  0.89  0.21  1.09]\n",
      " [ 0.86 -0.23 -2.01 ...  0.21  0.68  2.49]]\n",
      "(4000, 200)\n",
      "-----------\n",
      "[-1.  1.  1. ...  1.  1.  1.]\n",
      "(4000,)\n",
      "-----------\n",
      "[[-0.26  0.66  0.31 ... -1.79  1.48  0.01]\n",
      " [ 0.47 -0.01 -0.5  ... -0.19  1.84 -0.54]\n",
      " [ 0.39  1.57 -1.69 ... -0.11  2.06 -0.55]\n",
      " ...\n",
      " [ 1.18  0.78 -0.02 ... -0.63  0.29 -0.96]\n",
      " [-0.55  1.16 -0.56 ...  2.97 -2.66 -1.9 ]\n",
      " [ 0.8  -0.97 -0.15 ... -1.58  0.35  1.06]]\n",
      "(4500, 200)\n",
      "-----------\n",
      "[-1.  1. -1. ...  1.  1. -1.]\n",
      "(4500,)\n"
     ]
    }
   ],
   "source": [
    "#read the training data\n",
    "rd = pd.read_csv('./train.csv',header = None)\n",
    "#print(rd)\n",
    "def initial ():\n",
    "    #first 4000 as training data, rest as validation\n",
    "    #first column for y, rest for x\n",
    "    train_x = rd.iloc[:4000,1:].to_numpy()\n",
    "    train_y = rd.iloc[:4000,0].to_numpy()\n",
    "\n",
    "    vali_x = rd.iloc[4000:,1:].to_numpy()\n",
    "    vali_y = rd.iloc[4000:,0].to_numpy()\n",
    "\n",
    "    # change the first row 0 to -1\n",
    "    train_y = np.where(train_y == 0, -1 , train_y)\n",
    "    vali_y = np.where(vali_y == 0, -1, vali_y)\n",
    "    return train_x, train_y, vali_x, vali_y\n",
    "\n",
    "data_set = initial()\n",
    "train_x = data_set[0]\n",
    "train_y = data_set[1]\n",
    "vali_x = data_set[2]\n",
    "vali_y = data_set[3]\n",
    "\n",
    "print(train_x)\n",
    "print(train_x.shape)\n",
    "print(\"-----------\")\n",
    "print(train_y)\n",
    "print(train_y.shape)\n",
    "print(\"-----------\")\n",
    "print(vali_x)\n",
    "print(vali_x.shape)\n",
    "print(\"-----------\")\n",
    "print(vali_y)\n",
    "print(vali_y.shape)"
   ]
  },
  {
   "cell_type": "code",
   "execution_count": 11,
   "metadata": {},
   "outputs": [
    {
     "name": "stdout",
     "output_type": "stream",
     "text": [
      "sum of all dimensions of W is -0.14616662483607457\n",
      "b is 1.7797371047962776\n",
      "The accuracy verified by the test data is: 0.9695555555555555\n"
     ]
    }
   ],
   "source": [
    "# Question 2\n",
    "\n",
    "def svm_train_primal ( data_train , label_train , regularisation_para_C ):\n",
    "    m = data_train.shape[0]\n",
    "    n = data_train.shape[1]\n",
    "\n",
    "    #construct variable\n",
    "    w = cp.Variable(n)\n",
    "    b = cp.Variable()\n",
    "    epsilon = cp.Variable(m)\n",
    "    \n",
    "    #construct problem\n",
    "    ob = cp.Minimize((1/2) * cp.sum_squares(w) + (regularisation_para_C/m) * cp.sum(epsilon))\n",
    "    # \"*\" for scalar, \"@\" for vector , \"multiply(a,b)\" for matrix\n",
    "    constraints = [cp.multiply(label_train,(data_train @ w + b)) + epsilon >= 1, epsilon >= 0]\n",
    "    problem = cp.Problem(ob,constraints)\n",
    "    problem.solve()\n",
    "\n",
    "    return w.value, b.value, epsilon.value\n",
    "\n",
    "def svm_predict_primal ( data_test , label_test , svm_model ):\n",
    "    #np.sign give the classification -1 or 1\n",
    "    return acc_s(label_test, np.sign(np.dot(data_test, svm_model[0]) + svm_model[1]))\n",
    "\n",
    "svm_model = svm_train_primal(train_x,train_y,100)\n",
    "W = svm_model[0]\n",
    "b = svm_model[1]\n",
    "\n",
    "print(\"sum of all dimensions of W is \" + str(np.sum(W)))\n",
    "print(\"b is \"+ str(b))\n",
    "\n",
    "test_accuracy = svm_predict_primal (vali_x, vali_y, svm_model)\n",
    "print(\"The accuracy verified by the test data is: \" + str(test_accuracy))"
   ]
  }
 ],
 "metadata": {
  "kernelspec": {
   "display_name": "Python 3.10.5 64-bit",
   "language": "python",
   "name": "python3"
  },
  "language_info": {
   "codemirror_mode": {
    "name": "ipython",
    "version": 3
   },
   "file_extension": ".py",
   "mimetype": "text/x-python",
   "name": "python",
   "nbconvert_exporter": "python",
   "pygments_lexer": "ipython3",
   "version": "3.10.5"
  },
  "orig_nbformat": 4,
  "vscode": {
   "interpreter": {
    "hash": "369f2c481f4da34e4445cda3fffd2e751bd1c4d706f27375911949ba6bb62e1c"
   }
  }
 },
 "nbformat": 4,
 "nbformat_minor": 2
}
