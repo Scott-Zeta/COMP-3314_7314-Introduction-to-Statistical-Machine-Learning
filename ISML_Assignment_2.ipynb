{
 "cells": [
  {
   "cell_type": "code",
   "execution_count": 2,
   "metadata": {},
   "outputs": [
    {
     "name": "stdout",
     "output_type": "stream",
     "text": [
      "start\n"
     ]
    }
   ],
   "source": [
    "import numpy as np\n",
    "import pandas as pd\n",
    "import math as math\n",
    "import cvxpy as cp\n",
    "\n",
    "print(\"start\")"
   ]
  },
  {
   "cell_type": "code",
   "execution_count": 14,
   "metadata": {},
   "outputs": [
    {
     "name": "stdout",
     "output_type": "stream",
     "text": [
      "       1     2     3     4     5     6     7     8     9     10   ...   191  \\\n",
      "0    -0.36 -0.91 -0.99 -0.57 -1.38 -1.54 -1.64  1.29  0.65 -0.75  ...  1.15   \n",
      "1    -1.40 -1.90  0.09  0.29 -0.30 -1.30  1.13 -2.38 -1.16 -0.49  ...  0.48   \n",
      "2    -0.43  1.45 -0.68 -1.58  0.32 -0.14  0.23 -1.01 -0.39  1.34  ... -0.94   \n",
      "3    -0.76  0.30 -0.57 -0.33 -1.50  1.84  1.37  0.23  0.66  1.35  ... -0.42   \n",
      "4    -0.76  1.36  0.00 -1.44 -1.27 -0.76 -1.42 -0.58  0.11  1.22  ... -0.44   \n",
      "...    ...   ...   ...   ...   ...   ...   ...   ...   ...   ...  ...   ...   \n",
      "3995 -0.75  0.03 -1.09  0.95 -1.02  0.77  1.99  1.14 -0.20 -1.02  ...  1.12   \n",
      "3996 -0.42 -2.15  1.14 -1.00  1.01  0.56 -2.92 -0.77  1.33 -0.37  ... -0.24   \n",
      "3997 -0.57  0.14 -0.62 -0.63 -0.15  1.74 -0.85 -1.77  0.27  0.65  ...  2.16   \n",
      "3998  0.40  0.16 -0.49 -0.15 -0.34  0.25  0.18 -0.97 -0.49 -0.08  ...  1.45   \n",
      "3999  0.86 -0.23 -2.01  0.14  0.88 -0.37 -0.01  0.31  0.19  1.19  ...  1.78   \n",
      "\n",
      "       192   193   194   195   196   197   198   199   200  \n",
      "0    -0.05 -0.09  0.02  1.75  1.58  0.12  0.30  2.44 -1.26  \n",
      "1     0.24 -0.16 -0.48 -0.02 -0.35 -0.27 -0.20 -0.92 -0.46  \n",
      "2     0.11 -1.30 -0.24  0.74  0.88  1.37  0.12  0.01 -0.56  \n",
      "3     0.06 -1.05  0.35 -0.24 -0.69  1.31 -0.18 -1.54 -1.70  \n",
      "4     1.45 -1.18 -1.13 -0.14  0.04  0.33  1.20 -0.81 -1.16  \n",
      "...    ...   ...   ...   ...   ...   ...   ...   ...   ...  \n",
      "3995 -0.08  1.90 -0.84  0.66  1.45 -2.15  0.25 -1.17 -0.64  \n",
      "3996 -2.26 -0.33 -0.22 -0.44 -0.58 -0.58 -0.44 -0.09 -0.35  \n",
      "3997  0.38 -0.44  1.53  2.09 -0.35  1.10  0.00  0.38 -0.82  \n",
      "3998 -0.33 -0.53  1.81  1.23  0.21  0.13  0.89  0.21  1.09  \n",
      "3999  0.14  2.28 -0.54 -0.29 -0.03 -0.93  0.21  0.68  2.49  \n",
      "\n",
      "[4000 rows x 200 columns]\n",
      "-----------\n",
      "0       0.0\n",
      "1       1.0\n",
      "2       1.0\n",
      "3       1.0\n",
      "4       0.0\n",
      "       ... \n",
      "3995    0.0\n",
      "3996    1.0\n",
      "3997    1.0\n",
      "3998    1.0\n",
      "3999    1.0\n",
      "Name: 0, Length: 4000, dtype: float64\n"
     ]
    }
   ],
   "source": [
    "#read the training data\n",
    "rd = pd.read_csv('./train.csv',header = None)\n",
    "#print(rd)\n",
    "def initial ():\n",
    "    #first 4000 as training data, rest as validation\n",
    "    #first column for y, rest for x\n",
    "    train_x = rd.iloc[:4000,1:]\n",
    "    train_y = rd.iloc[:4000,0]\n",
    "    return train_x, train_y\n",
    "\n",
    "data_set = initial()\n",
    "train_x = data_set[0]\n",
    "train_y = data_set[1]\n",
    "\n",
    "print(train_x)\n",
    "print(\"-----------\")\n",
    "print(train_y)"
   ]
  }
 ],
 "metadata": {
  "kernelspec": {
   "display_name": "Python 3.10.5 64-bit",
   "language": "python",
   "name": "python3"
  },
  "language_info": {
   "codemirror_mode": {
    "name": "ipython",
    "version": 3
   },
   "file_extension": ".py",
   "mimetype": "text/x-python",
   "name": "python",
   "nbconvert_exporter": "python",
   "pygments_lexer": "ipython3",
   "version": "3.10.5"
  },
  "orig_nbformat": 4,
  "vscode": {
   "interpreter": {
    "hash": "369f2c481f4da34e4445cda3fffd2e751bd1c4d706f27375911949ba6bb62e1c"
   }
  }
 },
 "nbformat": 4,
 "nbformat_minor": 2
}
