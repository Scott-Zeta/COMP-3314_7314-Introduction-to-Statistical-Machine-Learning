{
 "cells": [
  {
   "cell_type": "code",
   "execution_count": 1,
   "metadata": {},
   "outputs": [
    {
     "name": "stdout",
     "output_type": "stream",
     "text": [
      "start\n"
     ]
    }
   ],
   "source": [
    "import numpy as np\n",
    "import pandas as pd\n",
    "import math as math\n",
    "import cvxpy as cp\n",
    "from sklearn.metrics import accuracy_score as acc_s\n",
    "\n",
    "print(\"start\")"
   ]
  },
  {
   "cell_type": "code",
   "execution_count": 2,
   "metadata": {},
   "outputs": [
    {
     "name": "stdout",
     "output_type": "stream",
     "text": [
      "[[-0.36 -0.91 -0.99 ...  0.3   2.44 -1.26]\n",
      " [-1.4  -1.9   0.09 ... -0.2  -0.92 -0.46]\n",
      " [-0.43  1.45 -0.68 ...  0.12  0.01 -0.56]\n",
      " ...\n",
      " [-0.57  0.14 -0.62 ...  0.    0.38 -0.82]\n",
      " [ 0.4   0.16 -0.49 ...  0.89  0.21  1.09]\n",
      " [ 0.86 -0.23 -2.01 ...  0.21  0.68  2.49]]\n",
      "(4000, 200)\n",
      "-----------\n",
      "[-1.  1.  1. ...  1.  1.  1.]\n",
      "(4000,)\n",
      "-----------\n",
      "[[-0.26  0.66  0.31 ... -1.79  1.48  0.01]\n",
      " [ 0.47 -0.01 -0.5  ... -0.19  1.84 -0.54]\n",
      " [ 0.39  1.57 -1.69 ... -0.11  2.06 -0.55]\n",
      " ...\n",
      " [ 1.18  0.78 -0.02 ... -0.63  0.29 -0.96]\n",
      " [-0.55  1.16 -0.56 ...  2.97 -2.66 -1.9 ]\n",
      " [ 0.8  -0.97 -0.15 ... -1.58  0.35  1.06]]\n",
      "(4500, 200)\n",
      "-----------\n",
      "[-1.  1. -1. ...  1.  1. -1.]\n",
      "(4500,)\n"
     ]
    }
   ],
   "source": [
    "#read the training data\n",
    "rd = pd.read_csv('./train.csv',header = None)\n",
    "#print(rd)\n",
    "def initial ():\n",
    "    #first 4000 as training data, rest as validation\n",
    "    #first column for y, rest for x\n",
    "    train_x = rd.iloc[:4000,1:].to_numpy()\n",
    "    train_y = rd.iloc[:4000,0].to_numpy()\n",
    "\n",
    "    vali_x = rd.iloc[4000:,1:].to_numpy()\n",
    "    vali_y = rd.iloc[4000:,0].to_numpy()\n",
    "\n",
    "    # change the first row 0 to -1\n",
    "    train_y = np.where(train_y == 0, -1 , train_y)\n",
    "    vali_y = np.where(vali_y == 0, -1, vali_y)\n",
    "    return train_x, train_y, vali_x, vali_y\n",
    "\n",
    "data_set = initial()\n",
    "train_x = data_set[0]\n",
    "train_y = data_set[1]\n",
    "vali_x = data_set[2]\n",
    "vali_y = data_set[3]\n",
    "\n",
    "print(train_x)\n",
    "print(train_x.shape)\n",
    "print(\"-----------\")\n",
    "print(train_y)\n",
    "print(train_y.shape)\n",
    "print(\"-----------\")\n",
    "print(vali_x)\n",
    "print(vali_x.shape)\n",
    "print(\"-----------\")\n",
    "print(vali_y)\n",
    "print(vali_y.shape)"
   ]
  },
  {
   "cell_type": "code",
   "execution_count": 3,
   "metadata": {},
   "outputs": [
    {
     "name": "stdout",
     "output_type": "stream",
     "text": [
      "sum of all dimensions of W is -0.14616662483607457\n",
      "b is 1.7797371047962776\n",
      "The accuracy verified by the validation data: 0.9695555555555555\n"
     ]
    }
   ],
   "source": [
    "# Q2\n",
    "\n",
    "def svm_train_primal ( data_train , label_train , regularisation_para_C ):\n",
    "    m = data_train.shape[0]\n",
    "    n = data_train.shape[1]\n",
    "\n",
    "    #construct variable\n",
    "    w = cp.Variable(n)\n",
    "    b = cp.Variable()\n",
    "    epsilon = cp.Variable(m)\n",
    "    \n",
    "    #construct problem\n",
    "    ob = cp.Minimize((1/2) * cp.sum_squares(w) + (regularisation_para_C/m) * cp.sum(epsilon))\n",
    "    # \"*\" for scalar, \"@\" for vector , \"multiply(a,b)\" for matrix\n",
    "    constraints = [cp.multiply(label_train,(data_train @ w + b)) + epsilon >= 1, epsilon >= 0]\n",
    "    problem = cp.Problem(ob,constraints)\n",
    "    problem.solve()\n",
    "\n",
    "    return w.value, b.value, epsilon.value\n",
    "\n",
    "def svm_predict_primal ( data_test , label_test , svm_model ):\n",
    "    #np.sign give the classification -1 or 1\n",
    "    return acc_s(label_test, np.sign(np.dot(data_test, svm_model[0]) + svm_model[1]))\n",
    "\n",
    "svm_model = svm_train_primal(train_x,train_y,100)\n",
    "W = svm_model[0]\n",
    "b = svm_model[1]\n",
    "\n",
    "print(\"sum of all dimensions of W is \" + str(np.sum(W)))\n",
    "print(\"b is \"+ str(b))\n",
    "\n",
    "test_accuracy = svm_predict_primal (vali_x, vali_y, svm_model)\n",
    "print(\"The accuracy verified by the validation data: \" + str(test_accuracy))"
   ]
  },
  {
   "cell_type": "code",
   "execution_count": 4,
   "metadata": {},
   "outputs": [
    {
     "name": "stdout",
     "output_type": "stream",
     "text": [
      "sum of all dimensions of optimal alpha: 7.289622414519168\n"
     ]
    }
   ],
   "source": [
    "#Q3\n",
    "def svm_train_dual (data_train, label_train, regularisation_para_C):\n",
    "    m = data_train.shape[0]\n",
    "    n = data_train.shape[1]\n",
    "    \n",
    "    #construct variable\n",
    "    alpha = cp.Variable(m)\n",
    "\n",
    "    #define dual problem\n",
    "    # \"*\" for scalar, \"@\" for vector , \"multiply(a,b)\" for matrix\n",
    "    ob = cp.Maximize(cp.sum(alpha) - (1 / 2) * cp.sum_squares(cp.multiply(alpha, label_train) @ data_train))\n",
    "    constraint = [0 <= alpha, alpha <= regularisation_para_C/m, cp.sum(cp.multiply(alpha,label_train)) == 0]\n",
    "    \n",
    "    problem = cp.Problem(ob, constraint)\n",
    "    problem.solve()\n",
    "\n",
    "    return alpha.value\n",
    "\n",
    "alpha = svm_train_dual(train_x, train_y, 100)\n",
    "\n",
    "print(\"sum of all dimensions of optimal alpha: \" + str(np.sum(alpha)))"
   ]
  },
  {
   "cell_type": "code",
   "execution_count": 5,
   "metadata": {},
   "outputs": [
    {
     "name": "stdout",
     "output_type": "stream",
     "text": [
      "The w* is [-2.57674162e-02 -1.14010761e-01  4.29754463e-02 -5.19486469e-02\n",
      "  7.53974058e-02 -7.75835583e-03  2.68960444e-02 -9.62135793e-03\n",
      "  4.69391969e-03  1.40804182e-03  9.44369304e-02  6.42715191e-02\n",
      "  6.92662207e-02  6.27013163e-02  1.87524558e-02 -2.34797116e-02\n",
      " -5.82297488e-02 -4.53777361e-02 -5.27423506e-02 -2.66726839e-02\n",
      " -1.81944916e-03  4.37573784e-02 -8.58761416e-03 -4.57724825e-02\n",
      " -1.91743376e-02 -1.86944324e-02 -4.19599198e-03  1.02871858e-02\n",
      " -7.28113283e-02  1.14143018e-01 -2.26554694e-02 -1.37639405e-02\n",
      "  6.01350606e-02 -2.09563454e-02  8.57946931e-02 -3.95161363e-02\n",
      "  2.30387158e-02 -5.26823525e-02  5.46959797e-02 -3.69786270e-02\n",
      "  2.74047846e-02  2.24769644e-02 -2.34321288e-02 -4.86354576e-03\n",
      "  2.71819031e-02 -2.44673446e-02  1.45937317e-01  7.20400773e-02\n",
      "  1.48735018e-02  9.81310334e-02 -3.11692729e-02  3.85970561e-02\n",
      "  8.63362605e-02 -4.82962816e-02  5.34906650e-02 -4.19192154e-02\n",
      " -5.57744337e-02  9.70050305e-02 -3.71456113e-02  7.25481712e-01\n",
      "  2.35498952e-02 -4.93338403e-02  3.56075884e-02 -1.52675470e-02\n",
      " -5.44987574e-03  1.91841199e-02 -1.91713584e-02 -2.80945053e-02\n",
      " -2.73263352e-02 -4.12446341e-02 -4.38400422e-02 -6.77817876e-02\n",
      " -5.44461216e-02  1.12238212e-01  3.69404585e-02  6.17368812e-02\n",
      " -3.61873588e-02 -5.24075117e-02  2.64259596e-02  4.27141323e-02\n",
      "  4.12140467e-02 -2.37979642e-02 -1.03806694e-02  2.47302502e-02\n",
      "  4.82039157e-02 -2.71678966e-02 -5.95976759e-02  2.83273549e-02\n",
      "  1.11746283e-02 -4.72927168e-01 -4.53227223e-03  5.95237288e-02\n",
      "  2.90637946e-02 -3.26761070e-02 -2.82931493e-03 -3.84076408e-02\n",
      " -2.02734487e-02 -3.53871301e-02 -2.40369612e-02 -5.61302123e-02\n",
      "  2.79709892e-02  1.86310554e-02 -3.81859859e-02 -4.23762469e-02\n",
      " -6.61961798e-03 -2.91965937e-02  4.93987774e-03 -5.93980494e-02\n",
      " -5.66879780e-01 -8.50071294e-02  2.29382784e-03  5.55523133e-03\n",
      " -2.26266392e-02 -2.46565104e-02  8.41838541e-02  6.79573254e-02\n",
      " -5.53603195e-02 -6.14874428e-02  7.42861345e-04  5.98884465e-04\n",
      "  6.39838379e-02 -3.95159317e-02 -4.27408300e-02  1.16797356e-01\n",
      " -7.26344201e-02 -6.62720113e-04  6.69952835e-02  2.29629650e-02\n",
      " -4.91661777e-03  1.78065162e-03  9.14221596e-02 -9.13647613e-03\n",
      " -2.35685305e-02  2.63189044e-02 -1.76523296e-02  1.56760633e-02\n",
      "  3.81977528e-02  5.78232115e-02  5.94144106e-02  3.17075539e-03\n",
      " -3.10012498e-02 -1.30483170e-01 -7.36495410e-03  2.13203904e-02\n",
      "  5.55564041e-03  1.96289953e-02 -4.71552691e-03 -1.80626388e-02\n",
      "  2.36156035e-02 -3.82475382e-02 -1.81265766e-02 -1.88166759e-02\n",
      "  4.45755744e-03 -3.27452643e-02 -3.19697643e-02 -3.93205915e-01\n",
      "  5.14490431e-02  8.85935223e-02  8.16155298e-02 -3.53597686e-02\n",
      "  4.18711434e-02 -8.26166967e-03 -3.53327544e-02  2.91055491e-02\n",
      " -1.83635549e-02 -1.57508193e-02  5.51225095e-03 -6.18852107e-02\n",
      " -7.74593236e-03 -6.32626222e-02 -3.22998933e-02 -4.01266468e-02\n",
      "  4.46333902e-01  4.53024652e-03  2.25666238e-03 -2.24182554e-02\n",
      "  5.88808978e-02  3.13476569e-02 -2.39463298e-02 -3.60295088e-03\n",
      "  1.30893538e-02 -6.22823939e-02  1.49092630e-02  6.53604915e-02\n",
      " -1.08411195e-01 -7.80192322e-02 -5.58813556e-02 -1.82207141e-02\n",
      "  3.05552230e-02  9.50150600e-02 -1.29478594e-02 -6.98866877e-03\n",
      " -1.56929038e-02  3.98231292e-02  5.71380007e-03  1.84453126e-02\n",
      " -2.57345799e-02  5.33342404e-02 -5.81529589e-02 -6.46473565e-03]\n",
      "The sum of all dimensions w is:-0.14151461418008737\n",
      "The b* is:[-0.37866144 -0.96391476 -2.05972338 ... -0.5232737  -0.47072644\n",
      " -1.98424743]\n",
      "1.7895903070814934\n"
     ]
    }
   ],
   "source": [
    "#Q4\n",
    "w_star = (cp.multiply(alpha, train_y) @ train_x).value\n",
    "w_star_sum = np.sum(w_star)\n",
    "b_star = train_y - (train_x @ w_star)\n",
    "\n",
    "print(\"The w* is \" + str(w_star))\n",
    "print(\"The sum of all dimensions w is:\"+str(w_star_sum))\n",
    "print(\"The b* is:\" + str(b_star))\n",
    "print(\"The mean of b* is: \" + str(np.mean(b_star)))"
   ]
  }
 ],
 "metadata": {
  "kernelspec": {
   "display_name": "Python 3.10.5 64-bit",
   "language": "python",
   "name": "python3"
  },
  "language_info": {
   "codemirror_mode": {
    "name": "ipython",
    "version": 3
   },
   "file_extension": ".py",
   "mimetype": "text/x-python",
   "name": "python",
   "nbconvert_exporter": "python",
   "pygments_lexer": "ipython3",
   "version": "3.10.5"
  },
  "orig_nbformat": 4,
  "vscode": {
   "interpreter": {
    "hash": "369f2c481f4da34e4445cda3fffd2e751bd1c4d706f27375911949ba6bb62e1c"
   }
  }
 },
 "nbformat": 4,
 "nbformat_minor": 2
}
