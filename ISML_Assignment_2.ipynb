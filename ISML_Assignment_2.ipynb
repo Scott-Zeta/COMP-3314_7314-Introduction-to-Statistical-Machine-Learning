{
 "cells": [
  {
   "cell_type": "code",
   "execution_count": 5,
   "metadata": {},
   "outputs": [
    {
     "name": "stdout",
     "output_type": "stream",
     "text": [
      "start\n"
     ]
    }
   ],
   "source": [
    "import numpy as np\n",
    "import pandas as pd\n",
    "import math as math\n",
    "import cvxpy as cp\n",
    "from sklearn.metrics import accuracy_score as acc_s\n",
    "\n",
    "print(\"start\")"
   ]
  },
  {
   "cell_type": "code",
   "execution_count": 6,
   "metadata": {},
   "outputs": [
    {
     "name": "stdout",
     "output_type": "stream",
     "text": [
      "[[-0.36 -0.91 -0.99 ...  0.3   2.44 -1.26]\n",
      " [-1.4  -1.9   0.09 ... -0.2  -0.92 -0.46]\n",
      " [-0.43  1.45 -0.68 ...  0.12  0.01 -0.56]\n",
      " ...\n",
      " [-0.57  0.14 -0.62 ...  0.    0.38 -0.82]\n",
      " [ 0.4   0.16 -0.49 ...  0.89  0.21  1.09]\n",
      " [ 0.86 -0.23 -2.01 ...  0.21  0.68  2.49]]\n",
      "(4000, 200)\n",
      "-----------\n",
      "[-1.  1.  1. ...  1.  1.  1.]\n",
      "(4000,)\n",
      "-----------\n",
      "[[-0.26  0.66  0.31 ... -1.79  1.48  0.01]\n",
      " [ 0.47 -0.01 -0.5  ... -0.19  1.84 -0.54]\n",
      " [ 0.39  1.57 -1.69 ... -0.11  2.06 -0.55]\n",
      " ...\n",
      " [ 1.18  0.78 -0.02 ... -0.63  0.29 -0.96]\n",
      " [-0.55  1.16 -0.56 ...  2.97 -2.66 -1.9 ]\n",
      " [ 0.8  -0.97 -0.15 ... -1.58  0.35  1.06]]\n",
      "(4500, 200)\n",
      "-----------\n",
      "[-1.  1. -1. ...  1.  1. -1.]\n",
      "(4500,)\n"
     ]
    }
   ],
   "source": [
    "#read the training data\n",
    "rd = pd.read_csv('./train.csv',header = None)\n",
    "#print(rd)\n",
    "def initial ():\n",
    "    #first 4000 as training data, rest as validation\n",
    "    #first column for y, rest for x\n",
    "    train_x = rd.iloc[:4000,1:].to_numpy()\n",
    "    train_y = rd.iloc[:4000,0].to_numpy()\n",
    "\n",
    "    vali_x = rd.iloc[4000:,1:].to_numpy()\n",
    "    vali_y = rd.iloc[4000:,0].to_numpy()\n",
    "\n",
    "    # change the first row 0 to -1\n",
    "    train_y = np.where(train_y == 0, -1 , train_y)\n",
    "    vali_y = np.where(vali_y == 0, -1, vali_y)\n",
    "    return train_x, train_y, vali_x, vali_y\n",
    "\n",
    "data_set = initial()\n",
    "train_x = data_set[0]\n",
    "train_y = data_set[1]\n",
    "vali_x = data_set[2]\n",
    "vali_y = data_set[3]\n",
    "\n",
    "print(train_x)\n",
    "print(train_x.shape)\n",
    "print(\"-----------\")\n",
    "print(train_y)\n",
    "print(train_y.shape)\n",
    "print(\"-----------\")\n",
    "print(vali_x)\n",
    "print(vali_x.shape)\n",
    "print(\"-----------\")\n",
    "print(vali_y)\n",
    "print(vali_y.shape)"
   ]
  },
  {
   "cell_type": "code",
   "execution_count": 12,
   "metadata": {},
   "outputs": [
    {
     "name": "stdout",
     "output_type": "stream",
     "text": [
      "sum of all dimensions of W is -0.14616662483607457\n",
      "b is 1.7797371047962776\n",
      "The accuracy verified by the validation data: 0.9695555555555555\n"
     ]
    }
   ],
   "source": [
    "# Q2\n",
    "\n",
    "def svm_train_primal ( data_train , label_train , regularisation_para_C ):\n",
    "    m = data_train.shape[0]\n",
    "    n = data_train.shape[1]\n",
    "\n",
    "    #construct variable\n",
    "    w = cp.Variable(n)\n",
    "    b = cp.Variable()\n",
    "    epsilon = cp.Variable(m)\n",
    "    \n",
    "    #construct problem\n",
    "    ob = cp.Minimize((1/2) * cp.sum_squares(w) + (regularisation_para_C/m) * cp.sum(epsilon))\n",
    "    # \"*\" for scalar, \"@\" for vector , \"multiply(a,b)\" for matrix\n",
    "    constraints = [cp.multiply(label_train,(data_train @ w + b)) + epsilon >= 1, epsilon >= 0]\n",
    "    problem = cp.Problem(ob,constraints)\n",
    "    problem.solve()\n",
    "\n",
    "    return w.value, b.value, epsilon.value\n",
    "\n",
    "def svm_predict_primal ( data_test , label_test , svm_model ):\n",
    "    #np.sign give the classification -1 or 1\n",
    "    return acc_s(label_test, np.sign(np.dot(data_test, svm_model[0]) + svm_model[1]))\n",
    "\n",
    "svm_model = svm_train_primal(train_x,train_y,100)\n",
    "W = svm_model[0]\n",
    "b = svm_model[1]\n",
    "\n",
    "print(\"sum of all dimensions of W is \" + str(np.sum(W)))\n",
    "print(\"b is \"+ str(b))\n",
    "\n",
    "test_accuracy = svm_predict_primal (vali_x, vali_y, svm_model)\n",
    "print(\"The accuracy verified by the validation data: \" + str(test_accuracy))"
   ]
  },
  {
   "cell_type": "code",
   "execution_count": 17,
   "metadata": {},
   "outputs": [
    {
     "name": "stdout",
     "output_type": "stream",
     "text": [
      "sum of all dimensions of optimal alpha: 7.2912583245569005\n"
     ]
    }
   ],
   "source": [
    "#Q3\n",
    "def svm_train_dual (data_train, label_train, regularisation_para_C):\n",
    "    m = data_train.shape[0]\n",
    "    n = data_train.shape[1]\n",
    "    \n",
    "    #construct variable\n",
    "    alpha = cp.Variable(m)\n",
    "\n",
    "    #define dual problem\n",
    "    # \"*\" for scalar, \"@\" for vector , \"multiply(a,b)\" for matrix\n",
    "    ob = cp.Maximize(cp.sum(alpha) - (1 / 2) * cp.sum_squares(cp.multiply(alpha, label_train) @ data_train))\n",
    "    constraint = [0 <= alpha, alpha <= regularisation_para_C/m, cp.sum(cp.multiply(alpha,label_train)) == 0]\n",
    "    \n",
    "    problem = cp.Problem(ob, constraint)\n",
    "    problem.solve()\n",
    "\n",
    "    return alpha.value\n",
    "\n",
    "alpha = svm_train_dual(train_x, train_y, 100)\n",
    "\n",
    "print(\"sum of all dimensions of optimal alpha: \" + str(np.sum(alpha)))"
   ]
  },
  {
   "cell_type": "code",
   "execution_count": 21,
   "metadata": {},
   "outputs": [
    {
     "name": "stdout",
     "output_type": "stream",
     "text": [
      "[-2.55939591e-02 -1.14007921e-01  4.32855212e-02 -5.18819300e-02\n",
      "  7.53472963e-02 -7.84397544e-03  2.65824264e-02 -9.45503426e-03\n",
      "  4.40336593e-03  1.58195680e-03  9.38970723e-02  6.42173161e-02\n",
      "  6.94519223e-02  6.27878091e-02  1.89513082e-02 -2.33295766e-02\n",
      " -5.83849380e-02 -4.54946031e-02 -5.19864228e-02 -2.69134823e-02\n",
      " -1.74617965e-03  4.38137199e-02 -8.54178243e-03 -4.56328690e-02\n",
      " -1.88722860e-02 -1.86577877e-02 -4.35992174e-03  1.05853557e-02\n",
      " -7.25165256e-02  1.13775842e-01 -2.23632064e-02 -1.37427911e-02\n",
      "  5.99524516e-02 -2.08665832e-02  8.54609108e-02 -3.98405560e-02\n",
      "  2.32234759e-02 -5.28302006e-02  5.45850507e-02 -3.69796115e-02\n",
      "  2.74815343e-02  2.24402462e-02 -2.34412061e-02 -5.06717780e-03\n",
      "  2.71047146e-02 -2.43686942e-02  1.45912621e-01  7.18292455e-02\n",
      "  1.47053334e-02  9.80263003e-02 -3.10295884e-02  3.86233566e-02\n",
      "  8.62364617e-02 -4.83414914e-02  5.33736064e-02 -4.19834603e-02\n",
      " -5.54077372e-02  9.72250016e-02 -3.71558817e-02  7.25102735e-01\n",
      "  2.34932984e-02 -4.94497173e-02  3.60332042e-02 -1.52140409e-02\n",
      " -5.42058243e-03  1.93561091e-02 -1.86955110e-02 -2.77144190e-02\n",
      " -2.72644040e-02 -4.15071950e-02 -4.33604973e-02 -6.76125016e-02\n",
      " -5.42007672e-02  1.12248513e-01  3.67834036e-02  6.15635333e-02\n",
      " -3.62422795e-02 -5.23183721e-02  2.62038880e-02  4.27971261e-02\n",
      "  4.12518332e-02 -2.39642937e-02 -1.03382153e-02  2.46084711e-02\n",
      "  4.81598194e-02 -2.72985560e-02 -5.95645142e-02  2.83163109e-02\n",
      "  1.10153912e-02 -4.72583752e-01 -4.54851133e-03  5.95541629e-02\n",
      "  2.88826952e-02 -3.25627983e-02 -2.80127312e-03 -3.82407608e-02\n",
      " -2.04060535e-02 -3.51881575e-02 -2.41843399e-02 -5.60607882e-02\n",
      "  2.78852338e-02  1.84239312e-02 -3.79951672e-02 -4.24327310e-02\n",
      " -6.80411410e-03 -2.93703635e-02  4.99719805e-03 -5.92835627e-02\n",
      " -5.66331346e-01 -8.48500948e-02  2.11774227e-03  5.55284517e-03\n",
      " -2.25329722e-02 -2.42533364e-02  8.41265059e-02  6.81352972e-02\n",
      " -5.56509249e-02 -6.15987272e-02  1.08431874e-03  7.08376232e-04\n",
      "  6.39450765e-02 -3.94818469e-02 -4.24415092e-02  1.16547877e-01\n",
      " -7.26319115e-02 -5.25955303e-04  6.70273516e-02  2.25698607e-02\n",
      " -5.06207763e-03  1.78984270e-03  9.13630106e-02 -9.34351079e-03\n",
      " -2.35922210e-02  2.62004172e-02 -1.76031955e-02  1.57313703e-02\n",
      "  3.79113598e-02  5.76732879e-02  5.92577291e-02  3.35182360e-03\n",
      " -3.08886000e-02 -1.30303724e-01 -7.65952769e-03  2.11550642e-02\n",
      "  5.74927040e-03  1.96979298e-02 -4.67190318e-03 -1.83532355e-02\n",
      "  2.35598170e-02 -3.84646031e-02 -1.81015006e-02 -1.88898235e-02\n",
      "  4.54394912e-03 -3.26923745e-02 -3.20719041e-02 -3.92757714e-01\n",
      "  5.13841384e-02  8.84627184e-02  8.15361638e-02 -3.54619925e-02\n",
      "  4.19771518e-02 -8.18550452e-03 -3.53701602e-02  2.92028690e-02\n",
      " -1.86681666e-02 -1.57052724e-02  5.33052435e-03 -6.21696967e-02\n",
      " -7.81050477e-03 -6.33675264e-02 -3.23138476e-02 -4.00348805e-02\n",
      "  4.45939423e-01  4.45370224e-03  1.99874087e-03 -2.22433424e-02\n",
      "  5.86077549e-02  3.12391535e-02 -2.40398473e-02 -3.70274386e-03\n",
      "  1.31285234e-02 -6.21483229e-02  1.48955543e-02  6.55599516e-02\n",
      " -1.08098635e-01 -7.79056634e-02 -5.60094532e-02 -1.79633999e-02\n",
      "  3.09654215e-02  9.49279724e-02 -1.27458534e-02 -6.78568068e-03\n",
      " -1.55672279e-02  3.97279972e-02  5.79784856e-03  1.85060532e-02\n",
      " -2.58067662e-02  5.33082655e-02 -5.79457688e-02 -6.37205577e-03]\n",
      "-0.14015434253764525\n",
      "1.7882051252093156\n"
     ]
    }
   ],
   "source": [
    "#Q4\n",
    "w_star = (cp.multiply(alpha, train_y) @ train_x).value\n",
    "w_star_sum = np.sum(w_star)\n",
    "b_star = train_y - (train_x @ w_star)\n",
    "\n",
    "print(w_star)\n",
    "print(w_star_sum)\n",
    "print(np.mean(b_star))"
   ]
  }
 ],
 "metadata": {
  "kernelspec": {
   "display_name": "Python 3.10.5 64-bit",
   "language": "python",
   "name": "python3"
  },
  "language_info": {
   "codemirror_mode": {
    "name": "ipython",
    "version": 3
   },
   "file_extension": ".py",
   "mimetype": "text/x-python",
   "name": "python",
   "nbconvert_exporter": "python",
   "pygments_lexer": "ipython3",
   "version": "3.10.5"
  },
  "orig_nbformat": 4,
  "vscode": {
   "interpreter": {
    "hash": "369f2c481f4da34e4445cda3fffd2e751bd1c4d706f27375911949ba6bb62e1c"
   }
  }
 },
 "nbformat": 4,
 "nbformat_minor": 2
}
